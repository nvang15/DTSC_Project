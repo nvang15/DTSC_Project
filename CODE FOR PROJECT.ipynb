{
 "cells": [
  {
   "cell_type": "code",
   "execution_count": 19,
   "id": "8496d8af",
   "metadata": {},
   "outputs": [],
   "source": [
    "#importing libraries/stuffs\n",
    "import pandas as pd"
   ]
  },
  {
   "cell_type": "code",
   "execution_count": 20,
   "id": "cc565da2",
   "metadata": {},
   "outputs": [],
   "source": [
    "#importing the csv file\n",
    "df = pd.read_csv(r\"C:\\Users\\noah1\\Desktop\\DTSC_Assignments\\PROJECT\\Workforce1_Job_Listing_20250428.csv\")"
   ]
  },
  {
   "cell_type": "code",
   "execution_count": 23,
   "id": "1a0aff79",
   "metadata": {},
   "outputs": [
    {
     "name": "stdout",
     "output_type": "stream",
     "text": [
      "                PositionTitle BoroughBronx BoroughBrooklyn BoroughManhattan  \\\n",
      "0  Human Resources Generalist           No              No              Yes   \n",
      "1                  Supervisor           No              No              Yes   \n",
      "2            Registered Nurse           No              No              Yes   \n",
      "3                         CNA           No              No               No   \n",
      "4                         LPN           No              No               No   \n",
      "\n",
      "  BoroughQueens BoroughStatenIsland BoroughNonNYC  \\\n",
      "0            No                  No            No   \n",
      "1            No                  No            No   \n",
      "2            No                  No            No   \n",
      "3           Yes                  No            No   \n",
      "4           Yes                  No            No   \n",
      "\n",
      "                        SectorName                   SubSectorName  WageMin  \\\n",
      "0             Educational Services            Educational Services    21.63   \n",
      "1    Accommodation & Food Services                   Food Services    17.00   \n",
      "2  Health Care & Social Assistance  Gen Medical/Surgical Hospitals    38.00   \n",
      "3  Health Care & Social Assistance         Nursing Care Facilities    15.00   \n",
      "4  Health Care & Social Assistance         Nursing Care Facilities    15.00   \n",
      "\n",
      "   ...                                PositionDescription  \\\n",
      "0  ...  Performs human resources-related duties at the...   \n",
      "1  ...  - Oversee both FOH and BOH staff, ensuring tha...   \n",
      "2  ...  In general, a registered nurse job description...   \n",
      "3  ...  Feed, bathe and dress patients Serve meals, ma...   \n",
      "4  ...  o Monitoring patients' vitals o Administering ...   \n",
      "\n",
      "             CandidateExperienceQualificationsSkills    EducationRequired  \\\n",
      "0                              3 years of experience                  NaN   \n",
      "1  - Oversee both FOH and BOH staff, ensuring tha...  High School Diploma   \n",
      "2                                   NYS License, BSN           Bachelor's   \n",
      "3                     New grad NYS CNA Certification  High School Diploma   \n",
      "4                           New Grad NYS LPN License  High School Diploma   \n",
      "\n",
      "  MinHoursPerWeek MaxHoursPerWeek  LeadFulfillmentCenter  \\\n",
      "0            40.0            40.0                53044.0   \n",
      "1            35.0            35.0                52696.0   \n",
      "2            37.0            37.0                52698.0   \n",
      "3            30.0            30.0                52741.0   \n",
      "4            30.0            30.0                52744.0   \n",
      "\n",
      "                  JobFamilyName  SOCOccupationCode SOCOccupationName  \\\n",
      "0               Upper Manhattan                3.0              13.0   \n",
      "1               Upper Manhattan                3.0              35.0   \n",
      "2  Healthcare Sector Center  LM               75.0              29.0   \n",
      "3  Healthcare Sector Center  LM               75.0              29.0   \n",
      "4  Healthcare Sector Center  LM               75.0              29.0   \n",
      "\n",
      "                           PositionType  \n",
      "0                Office, Administration  \n",
      "1       Food Service and Accommodations  \n",
      "2  Healthcare Practitioners and Support  \n",
      "3  Healthcare Practitioners and Support  \n",
      "4  Healthcare Practitioners and Support  \n",
      "\n",
      "[5 rows x 22 columns]\n"
     ]
    }
   ],
   "source": [
    "#too many empty rows so i need to clean it up...\n",
    "df = df.dropna(how='all')\n",
    "#empty rows are gone but the row order is changed so i need to reset the index\n",
    "df = df.reset_index(drop=True)\n",
    "print(df.head(5))"
   ]
  },
  {
   "cell_type": "code",
   "execution_count": null,
   "id": "7b98d586",
   "metadata": {},
   "outputs": [],
   "source": []
  }
 ],
 "metadata": {
  "kernelspec": {
   "display_name": ".venv",
   "language": "python",
   "name": "python3"
  },
  "language_info": {
   "codemirror_mode": {
    "name": "ipython",
    "version": 3
   },
   "file_extension": ".py",
   "mimetype": "text/x-python",
   "name": "python",
   "nbconvert_exporter": "python",
   "pygments_lexer": "ipython3",
   "version": "3.13.3"
  }
 },
 "nbformat": 4,
 "nbformat_minor": 5
}
